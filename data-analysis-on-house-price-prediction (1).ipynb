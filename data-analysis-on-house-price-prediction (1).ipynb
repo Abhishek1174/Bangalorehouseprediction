{
 "cells": [
  {
   "cell_type": "markdown",
   "id": "be071aa3",
   "metadata": {
    "papermill": {
     "duration": 0.015311,
     "end_time": "2023-09-04T17:15:34.919394",
     "exception": false,
     "start_time": "2023-09-04T17:15:34.904083",
     "status": "completed"
    },
    "tags": []
   },
   "source": [
    "## Importing Libraries"
   ]
  },
  {
   "cell_type": "code",
   "execution_count": 1,
   "id": "19ec2dc2",
   "metadata": {
    "execution": {
     "iopub.execute_input": "2023-09-04T17:15:34.949073Z",
     "iopub.status.busy": "2023-09-04T17:15:34.948351Z",
     "iopub.status.idle": "2023-09-04T17:15:36.793993Z",
     "shell.execute_reply": "2023-09-04T17:15:36.792973Z"
    },
    "papermill": {
     "duration": 1.863465,
     "end_time": "2023-09-04T17:15:36.796936",
     "exception": false,
     "start_time": "2023-09-04T17:15:34.933471",
     "status": "completed"
    },
    "tags": []
   },
   "outputs": [],
   "source": [
    "import numpy as np\n",
    "import pandas as pd\n",
    "import matplotlib.pyplot as plt\n",
    "import seaborn as sns\n",
    "import warnings\n",
    "warnings.filterwarnings('ignore')"
   ]
  },
  {
   "cell_type": "markdown",
   "id": "1c692bf6",
   "metadata": {
    "papermill": {
     "duration": 0.013176,
     "end_time": "2023-09-04T17:15:36.824227",
     "exception": false,
     "start_time": "2023-09-04T17:15:36.811051",
     "status": "completed"
    },
    "tags": []
   },
   "source": [
    "# Loading Dataset"
   ]
  },
  {
   "cell_type": "code",
   "execution_count": 2,
   "id": "7af4ab5e",
   "metadata": {
    "execution": {
     "iopub.execute_input": "2023-09-04T17:15:36.853246Z",
     "iopub.status.busy": "2023-09-04T17:15:36.852715Z",
     "iopub.status.idle": "2023-09-04T17:15:36.920644Z",
     "shell.execute_reply": "2023-09-04T17:15:36.919740Z"
    },
    "papermill": {
     "duration": 0.085157,
     "end_time": "2023-09-04T17:15:36.923001",
     "exception": false,
     "start_time": "2023-09-04T17:15:36.837844",
     "status": "completed"
    },
    "tags": []
   },
   "outputs": [],
   "source": [
    "df = pd.read_csv('/kaggle/input/bengaluru-house-price-data/Bengaluru_House_Data.csv')"
   ]
  },
  {
   "cell_type": "code",
   "execution_count": 3,
   "id": "500ab8ec",
   "metadata": {
    "execution": {
     "iopub.execute_input": "2023-09-04T17:15:36.951488Z",
     "iopub.status.busy": "2023-09-04T17:15:36.951086Z",
     "iopub.status.idle": "2023-09-04T17:15:36.978963Z",
     "shell.execute_reply": "2023-09-04T17:15:36.978106Z"
    },
    "papermill": {
     "duration": 0.044545,
     "end_time": "2023-09-04T17:15:36.981041",
     "exception": false,
     "start_time": "2023-09-04T17:15:36.936496",
     "status": "completed"
    },
    "tags": []
   },
   "outputs": [
    {
     "data": {
      "text/html": [
       "<div>\n",
       "<style scoped>\n",
       "    .dataframe tbody tr th:only-of-type {\n",
       "        vertical-align: middle;\n",
       "    }\n",
       "\n",
       "    .dataframe tbody tr th {\n",
       "        vertical-align: top;\n",
       "    }\n",
       "\n",
       "    .dataframe thead th {\n",
       "        text-align: right;\n",
       "    }\n",
       "</style>\n",
       "<table border=\"1\" class=\"dataframe\">\n",
       "  <thead>\n",
       "    <tr style=\"text-align: right;\">\n",
       "      <th></th>\n",
       "      <th>area_type</th>\n",
       "      <th>availability</th>\n",
       "      <th>location</th>\n",
       "      <th>size</th>\n",
       "      <th>society</th>\n",
       "      <th>total_sqft</th>\n",
       "      <th>bath</th>\n",
       "      <th>balcony</th>\n",
       "      <th>price</th>\n",
       "    </tr>\n",
       "  </thead>\n",
       "  <tbody>\n",
       "    <tr>\n",
       "      <th>7127</th>\n",
       "      <td>Plot  Area</td>\n",
       "      <td>Ready To Move</td>\n",
       "      <td>BTM 2nd Stage</td>\n",
       "      <td>5 Bedroom</td>\n",
       "      <td>NaN</td>\n",
       "      <td>2990</td>\n",
       "      <td>5.0</td>\n",
       "      <td>3.0</td>\n",
       "      <td>416.0</td>\n",
       "    </tr>\n",
       "    <tr>\n",
       "      <th>11265</th>\n",
       "      <td>Built-up  Area</td>\n",
       "      <td>Ready To Move</td>\n",
       "      <td>Benson Town</td>\n",
       "      <td>3 BHK</td>\n",
       "      <td>NaN</td>\n",
       "      <td>1805</td>\n",
       "      <td>3.0</td>\n",
       "      <td>2.0</td>\n",
       "      <td>280.0</td>\n",
       "    </tr>\n",
       "    <tr>\n",
       "      <th>6633</th>\n",
       "      <td>Plot  Area</td>\n",
       "      <td>Ready To Move</td>\n",
       "      <td>Hoskote</td>\n",
       "      <td>5 Bedroom</td>\n",
       "      <td>NaN</td>\n",
       "      <td>900</td>\n",
       "      <td>5.0</td>\n",
       "      <td>2.0</td>\n",
       "      <td>110.0</td>\n",
       "    </tr>\n",
       "    <tr>\n",
       "      <th>8906</th>\n",
       "      <td>Super built-up  Area</td>\n",
       "      <td>Ready To Move</td>\n",
       "      <td>OMBR Layout</td>\n",
       "      <td>2 BHK</td>\n",
       "      <td>NaN</td>\n",
       "      <td>1101</td>\n",
       "      <td>2.0</td>\n",
       "      <td>2.0</td>\n",
       "      <td>66.0</td>\n",
       "    </tr>\n",
       "    <tr>\n",
       "      <th>7691</th>\n",
       "      <td>Built-up  Area</td>\n",
       "      <td>Ready To Move</td>\n",
       "      <td>Kalyan nagar</td>\n",
       "      <td>2 BHK</td>\n",
       "      <td>NaN</td>\n",
       "      <td>1250</td>\n",
       "      <td>2.0</td>\n",
       "      <td>2.0</td>\n",
       "      <td>65.0</td>\n",
       "    </tr>\n",
       "  </tbody>\n",
       "</table>\n",
       "</div>"
      ],
      "text/plain": [
       "                  area_type   availability       location       size society  \\\n",
       "7127             Plot  Area  Ready To Move  BTM 2nd Stage  5 Bedroom     NaN   \n",
       "11265        Built-up  Area  Ready To Move    Benson Town      3 BHK     NaN   \n",
       "6633             Plot  Area  Ready To Move        Hoskote  5 Bedroom     NaN   \n",
       "8906   Super built-up  Area  Ready To Move    OMBR Layout      2 BHK     NaN   \n",
       "7691         Built-up  Area  Ready To Move   Kalyan nagar      2 BHK     NaN   \n",
       "\n",
       "      total_sqft  bath  balcony  price  \n",
       "7127        2990   5.0      3.0  416.0  \n",
       "11265       1805   3.0      2.0  280.0  \n",
       "6633         900   5.0      2.0  110.0  \n",
       "8906        1101   2.0      2.0   66.0  \n",
       "7691        1250   2.0      2.0   65.0  "
      ]
     },
     "execution_count": 3,
     "metadata": {},
     "output_type": "execute_result"
    }
   ],
   "source": [
    "df.sample(5)"
   ]
  },
  {
   "cell_type": "code",
   "execution_count": 4,
   "id": "19aa2216",
   "metadata": {
    "execution": {
     "iopub.execute_input": "2023-09-04T17:15:37.010441Z",
     "iopub.status.busy": "2023-09-04T17:15:37.009703Z",
     "iopub.status.idle": "2023-09-04T17:15:37.016236Z",
     "shell.execute_reply": "2023-09-04T17:15:37.015151Z"
    },
    "papermill": {
     "duration": 0.023788,
     "end_time": "2023-09-04T17:15:37.018528",
     "exception": false,
     "start_time": "2023-09-04T17:15:36.994740",
     "status": "completed"
    },
    "tags": []
   },
   "outputs": [
    {
     "data": {
      "text/plain": [
       "(13320, 9)"
      ]
     },
     "execution_count": 4,
     "metadata": {},
     "output_type": "execute_result"
    }
   ],
   "source": [
    "df.shape"
   ]
  },
  {
   "cell_type": "code",
   "execution_count": 5,
   "id": "d8159565",
   "metadata": {
    "execution": {
     "iopub.execute_input": "2023-09-04T17:15:37.047670Z",
     "iopub.status.busy": "2023-09-04T17:15:37.047287Z",
     "iopub.status.idle": "2023-09-04T17:15:37.063377Z",
     "shell.execute_reply": "2023-09-04T17:15:37.062615Z"
    },
    "papermill": {
     "duration": 0.033055,
     "end_time": "2023-09-04T17:15:37.065353",
     "exception": false,
     "start_time": "2023-09-04T17:15:37.032298",
     "status": "completed"
    },
    "tags": []
   },
   "outputs": [
    {
     "data": {
      "text/plain": [
       "area_type          0\n",
       "availability       0\n",
       "location           1\n",
       "size              16\n",
       "society         5502\n",
       "total_sqft         0\n",
       "bath              73\n",
       "balcony          609\n",
       "price              0\n",
       "dtype: int64"
      ]
     },
     "execution_count": 5,
     "metadata": {},
     "output_type": "execute_result"
    }
   ],
   "source": [
    "df.isnull().sum()"
   ]
  },
  {
   "cell_type": "markdown",
   "id": "f5af9c58",
   "metadata": {
    "papermill": {
     "duration": 0.013673,
     "end_time": "2023-09-04T17:15:37.093151",
     "exception": false,
     "start_time": "2023-09-04T17:15:37.079478",
     "status": "completed"
    },
    "tags": []
   },
   "source": [
    "#### Dropping categorical columns"
   ]
  },
  {
   "cell_type": "code",
   "execution_count": 6,
   "id": "af7a9416",
   "metadata": {
    "execution": {
     "iopub.execute_input": "2023-09-04T17:15:37.122752Z",
     "iopub.status.busy": "2023-09-04T17:15:37.122158Z",
     "iopub.status.idle": "2023-09-04T17:15:37.132005Z",
     "shell.execute_reply": "2023-09-04T17:15:37.131173Z"
    },
    "papermill": {
     "duration": 0.02698,
     "end_time": "2023-09-04T17:15:37.134088",
     "exception": false,
     "start_time": "2023-09-04T17:15:37.107108",
     "status": "completed"
    },
    "tags": []
   },
   "outputs": [],
   "source": [
    "df = df.drop(['area_type','location','availability','society'],axis = 1)"
   ]
  },
  {
   "cell_type": "code",
   "execution_count": 7,
   "id": "23d415f0",
   "metadata": {
    "execution": {
     "iopub.execute_input": "2023-09-04T17:15:37.164351Z",
     "iopub.status.busy": "2023-09-04T17:15:37.163701Z",
     "iopub.status.idle": "2023-09-04T17:15:37.196965Z",
     "shell.execute_reply": "2023-09-04T17:15:37.195577Z"
    },
    "papermill": {
     "duration": 0.050954,
     "end_time": "2023-09-04T17:15:37.199330",
     "exception": false,
     "start_time": "2023-09-04T17:15:37.148376",
     "status": "completed"
    },
    "tags": []
   },
   "outputs": [
    {
     "name": "stdout",
     "output_type": "stream",
     "text": [
      "<class 'pandas.core.frame.DataFrame'>\n",
      "RangeIndex: 13320 entries, 0 to 13319\n",
      "Data columns (total 5 columns):\n",
      " #   Column      Non-Null Count  Dtype  \n",
      "---  ------      --------------  -----  \n",
      " 0   size        13304 non-null  object \n",
      " 1   total_sqft  13320 non-null  object \n",
      " 2   bath        13247 non-null  float64\n",
      " 3   balcony     12711 non-null  float64\n",
      " 4   price       13320 non-null  float64\n",
      "dtypes: float64(3), object(2)\n",
      "memory usage: 520.4+ KB\n"
     ]
    }
   ],
   "source": [
    "df.info()"
   ]
  },
  {
   "cell_type": "code",
   "execution_count": 8,
   "id": "1ba1dda4",
   "metadata": {
    "execution": {
     "iopub.execute_input": "2023-09-04T17:15:37.229257Z",
     "iopub.status.busy": "2023-09-04T17:15:37.228658Z",
     "iopub.status.idle": "2023-09-04T17:15:37.241085Z",
     "shell.execute_reply": "2023-09-04T17:15:37.240009Z"
    },
    "papermill": {
     "duration": 0.029587,
     "end_time": "2023-09-04T17:15:37.243214",
     "exception": false,
     "start_time": "2023-09-04T17:15:37.213627",
     "status": "completed"
    },
    "tags": []
   },
   "outputs": [
    {
     "data": {
      "text/plain": [
       "count    13320.000000\n",
       "mean       112.565627\n",
       "std        148.971674\n",
       "min          8.000000\n",
       "25%         50.000000\n",
       "50%         72.000000\n",
       "75%        120.000000\n",
       "max       3600.000000\n",
       "Name: price, dtype: float64"
      ]
     },
     "execution_count": 8,
     "metadata": {},
     "output_type": "execute_result"
    }
   ],
   "source": [
    "df['price'].describe()"
   ]
  },
  {
   "cell_type": "markdown",
   "id": "db7fe154",
   "metadata": {
    "papermill": {
     "duration": 0.014038,
     "end_time": "2023-09-04T17:15:37.271649",
     "exception": false,
     "start_time": "2023-09-04T17:15:37.257611",
     "status": "completed"
    },
    "tags": []
   },
   "source": [
    "# Variation of Price and Correlation "
   ]
  },
  {
   "cell_type": "code",
   "execution_count": 9,
   "id": "297ddc6f",
   "metadata": {
    "execution": {
     "iopub.execute_input": "2023-09-04T17:15:37.301815Z",
     "iopub.status.busy": "2023-09-04T17:15:37.301397Z",
     "iopub.status.idle": "2023-09-04T17:15:37.883351Z",
     "shell.execute_reply": "2023-09-04T17:15:37.882201Z"
    },
    "papermill": {
     "duration": 0.599809,
     "end_time": "2023-09-04T17:15:37.885816",
     "exception": false,
     "start_time": "2023-09-04T17:15:37.286007",
     "status": "completed"
    },
    "tags": []
   },
   "outputs": [
    {
     "data": {
      "text/plain": [
       "<Axes: xlabel='price', ylabel='Density'>"
      ]
     },
     "execution_count": 9,
     "metadata": {},
     "output_type": "execute_result"
    },
    {
     "data": {
      "image/png": "[encoded data removed]",
      "text/plain": [
       "<Figure size 640x480 with 1 Axes>"
      ]
     },
     "metadata": {},
     "output_type": "display_data"
    }
   ],
   "source": [
    "sns.distplot(df['price'])"
   ]
  },
  {
   "cell_type": "code",
   "execution_count": 10,
   "id": "9a180ea8",
   "metadata": {
    "execution": {
     "iopub.execute_input": "2023-09-04T17:15:37.917417Z",
     "iopub.status.busy": "2023-09-04T17:15:37.917040Z",
     "iopub.status.idle": "2023-09-04T17:15:38.266589Z",
     "shell.execute_reply": "2023-09-04T17:15:38.265553Z"
    },
    "papermill": {
     "duration": 0.368441,
     "end_time": "2023-09-04T17:15:38.269212",
     "exception": false,
     "start_time": "2023-09-04T17:15:37.900771",
     "status": "completed"
    },
    "tags": []
   },
   "outputs": [
    {
     "data": {
      "text/plain": [
       "<Axes: >"
      ]
     },
     "execution_count": 10,
     "metadata": {},
     "output_type": "execute_result"
    },
    {
     "data": {
      "image/png": "[encoded data removed]",
      "text/plain": [
       "<Figure size 640x480 with 2 Axes>"
      ]
     },
     "metadata": {},
     "output_type": "display_data"
    }
   ],
   "source": [
    "numericalColumns = [\"bath\",\"balcony\",\"price\"]\n",
    "corr = df[numericalColumns].corr()\n",
    "sns.heatmap(corr, annot=True)"
   ]
  },
  {
   "cell_type": "markdown",
   "id": "57742539",
   "metadata": {
    "papermill": {
     "duration": 0.014856,
     "end_time": "2023-09-04T17:15:38.299380",
     "exception": false,
     "start_time": "2023-09-04T17:15:38.284524",
     "status": "completed"
    },
    "tags": []
   },
   "source": [
    "Correlation of bath is more than balcony with price"
   ]
  },
  {
   "cell_type": "markdown",
   "id": "c7da22b5",
   "metadata": {
    "papermill": {
     "duration": 0.016663,
     "end_time": "2023-09-04T17:15:38.331469",
     "exception": false,
     "start_time": "2023-09-04T17:15:38.314806",
     "status": "completed"
    },
    "tags": []
   },
   "source": [
    "# Data Cleaning"
   ]
  },
  {
   "cell_type": "code",
   "execution_count": 11,
   "id": "a596b002",
   "metadata": {
    "execution": {
     "iopub.execute_input": "2023-09-04T17:15:38.364879Z",
     "iopub.status.busy": "2023-09-04T17:15:38.364200Z",
     "iopub.status.idle": "2023-09-04T17:15:38.375461Z",
     "shell.execute_reply": "2023-09-04T17:15:38.374594Z"
    },
    "papermill": {
     "duration": 0.03029,
     "end_time": "2023-09-04T17:15:38.377593",
     "exception": false,
     "start_time": "2023-09-04T17:15:38.347303",
     "status": "completed"
    },
    "tags": []
   },
   "outputs": [
    {
     "data": {
      "text/plain": [
       "size           16\n",
       "total_sqft      0\n",
       "bath           73\n",
       "balcony       609\n",
       "price           0\n",
       "dtype: int64"
      ]
     },
     "execution_count": 11,
     "metadata": {},
     "output_type": "execute_result"
    }
   ],
   "source": [
    "df.isnull().sum()"
   ]
  },
  {
   "cell_type": "markdown",
   "id": "b11368c3",
   "metadata": {
    "papermill": {
     "duration": 0.015188,
     "end_time": "2023-09-04T17:15:38.408237",
     "exception": false,
     "start_time": "2023-09-04T17:15:38.393049",
     "status": "completed"
    },
    "tags": []
   },
   "source": [
    "### Cleaning 'size' column"
   ]
  },
  {
   "cell_type": "code",
   "execution_count": 12,
   "id": "e67654e0",
   "metadata": {
    "execution": {
     "iopub.execute_input": "2023-09-04T17:15:38.491434Z",
     "iopub.status.busy": "2023-09-04T17:15:38.490759Z",
     "iopub.status.idle": "2023-09-04T17:15:38.498559Z",
     "shell.execute_reply": "2023-09-04T17:15:38.497707Z"
    },
    "papermill": {
     "duration": 0.027035,
     "end_time": "2023-09-04T17:15:38.500573",
     "exception": false,
     "start_time": "2023-09-04T17:15:38.473538",
     "status": "completed"
    },
    "tags": []
   },
   "outputs": [
    {
     "data": {
      "text/plain": [
       "array(['2 BHK', '4 Bedroom', '3 BHK', '4 BHK', '6 Bedroom', '3 Bedroom',\n",
       "       '1 BHK', '1 RK', '1 Bedroom', '8 Bedroom', '2 Bedroom',\n",
       "       '7 Bedroom', '5 BHK', '7 BHK', '6 BHK', '5 Bedroom', '11 BHK',\n",
       "       '9 BHK', nan, '9 Bedroom', '27 BHK', '10 Bedroom', '11 Bedroom',\n",
       "       '10 BHK', '19 BHK', '16 BHK', '43 Bedroom', '14 BHK', '8 BHK',\n",
       "       '12 Bedroom', '13 BHK', '18 Bedroom'], dtype=object)"
      ]
     },
     "execution_count": 12,
     "metadata": {},
     "output_type": "execute_result"
    }
   ],
   "source": [
    "df['size'].unique()"
   ]
  },
  {
   "cell_type": "code",
   "execution_count": 13,
   "id": "d6ec14a3",
   "metadata": {
    "execution": {
     "iopub.execute_input": "2023-09-04T17:15:38.533500Z",
     "iopub.status.busy": "2023-09-04T17:15:38.532845Z",
     "iopub.status.idle": "2023-09-04T17:15:38.541347Z",
     "shell.execute_reply": "2023-09-04T17:15:38.540523Z"
    },
    "papermill": {
     "duration": 0.027376,
     "end_time": "2023-09-04T17:15:38.543355",
     "exception": false,
     "start_time": "2023-09-04T17:15:38.515979",
     "status": "completed"
    },
    "tags": []
   },
   "outputs": [
    {
     "data": {
      "text/plain": [
       "16"
      ]
     },
     "execution_count": 13,
     "metadata": {},
     "output_type": "execute_result"
    }
   ],
   "source": [
    "df['size'].isnull().sum()"
   ]
  },
  {
   "cell_type": "code",
   "execution_count": 14,
   "id": "9384d407",
   "metadata": {
    "execution": {
     "iopub.execute_input": "2023-09-04T17:15:38.577337Z",
     "iopub.status.busy": "2023-09-04T17:15:38.576735Z",
     "iopub.status.idle": "2023-09-04T17:15:38.601917Z",
     "shell.execute_reply": "2023-09-04T17:15:38.601160Z"
    },
    "papermill": {
     "duration": 0.044445,
     "end_time": "2023-09-04T17:15:38.603972",
     "exception": false,
     "start_time": "2023-09-04T17:15:38.559527",
     "status": "completed"
    },
    "tags": []
   },
   "outputs": [
    {
     "data": {
      "text/plain": [
       "0"
      ]
     },
     "execution_count": 14,
     "metadata": {},
     "output_type": "execute_result"
    }
   ],
   "source": [
    "def changesize(val):\n",
    "    if val == np.nan:\n",
    "        return np.nan\n",
    "    else:\n",
    "        val = str(val).split(' ')\n",
    "        val = val[0]\n",
    "        return float(val)\n",
    "    \n",
    "df['size'] = df['size'].apply(changesize)\n",
    "\n",
    "df['size'] = df['size'].fillna(df['size'].mean())\n",
    "\n",
    "\n",
    "df['size'].isnull().sum()"
   ]
  },
  {
   "cell_type": "code",
   "execution_count": 15,
   "id": "d4a0f526",
   "metadata": {
    "execution": {
     "iopub.execute_input": "2023-09-04T17:15:38.639368Z",
     "iopub.status.busy": "2023-09-04T17:15:38.638686Z",
     "iopub.status.idle": "2023-09-04T17:15:38.647968Z",
     "shell.execute_reply": "2023-09-04T17:15:38.646903Z"
    },
    "papermill": {
     "duration": 0.029601,
     "end_time": "2023-09-04T17:15:38.650252",
     "exception": false,
     "start_time": "2023-09-04T17:15:38.620651",
     "status": "completed"
    },
    "tags": []
   },
   "outputs": [
    {
     "data": {
      "text/plain": [
       "size            0\n",
       "total_sqft      0\n",
       "bath           73\n",
       "balcony       609\n",
       "price           0\n",
       "dtype: int64"
      ]
     },
     "execution_count": 15,
     "metadata": {},
     "output_type": "execute_result"
    }
   ],
   "source": [
    "df.isnull().sum()"
   ]
  },
  {
   "cell_type": "markdown",
   "id": "9f849ad7",
   "metadata": {
    "papermill": {
     "duration": 0.016255,
     "end_time": "2023-09-04T17:15:38.682958",
     "exception": false,
     "start_time": "2023-09-04T17:15:38.666703",
     "status": "completed"
    },
    "tags": []
   },
   "source": [
    "### Cleaning 'bath' column"
   ]
  },
  {
   "cell_type": "code",
   "execution_count": 16,
   "id": "1a70088f",
   "metadata": {
    "execution": {
     "iopub.execute_input": "2023-09-04T17:15:38.717581Z",
     "iopub.status.busy": "2023-09-04T17:15:38.717185Z",
     "iopub.status.idle": "2023-09-04T17:15:38.725672Z",
     "shell.execute_reply": "2023-09-04T17:15:38.724389Z"
    },
    "papermill": {
     "duration": 0.029127,
     "end_time": "2023-09-04T17:15:38.728440",
     "exception": false,
     "start_time": "2023-09-04T17:15:38.699313",
     "status": "completed"
    },
    "tags": []
   },
   "outputs": [
    {
     "data": {
      "text/plain": [
       "array([ 2.,  5.,  3.,  4.,  6.,  1.,  9., nan,  8.,  7., 11., 10., 14.,\n",
       "       27., 12., 16., 40., 15., 13., 18.])"
      ]
     },
     "execution_count": 16,
     "metadata": {},
     "output_type": "execute_result"
    }
   ],
   "source": [
    "df['bath'].unique()"
   ]
  },
  {
   "cell_type": "code",
   "execution_count": 17,
   "id": "9f7af5ca",
   "metadata": {
    "execution": {
     "iopub.execute_input": "2023-09-04T17:15:38.765981Z",
     "iopub.status.busy": "2023-09-04T17:15:38.765565Z",
     "iopub.status.idle": "2023-09-04T17:15:38.771995Z",
     "shell.execute_reply": "2023-09-04T17:15:38.771104Z"
    },
    "papermill": {
     "duration": 0.028053,
     "end_time": "2023-09-04T17:15:38.774124",
     "exception": false,
     "start_time": "2023-09-04T17:15:38.746071",
     "status": "completed"
    },
    "tags": []
   },
   "outputs": [],
   "source": [
    "# fill nan values with mean\n",
    "df['bath'] = df['bath'].fillna(df['bath'].mean())"
   ]
  },
  {
   "cell_type": "code",
   "execution_count": 18,
   "id": "e70dcde4",
   "metadata": {
    "execution": {
     "iopub.execute_input": "2023-09-04T17:15:38.810116Z",
     "iopub.status.busy": "2023-09-04T17:15:38.809724Z",
     "iopub.status.idle": "2023-09-04T17:15:38.820088Z",
     "shell.execute_reply": "2023-09-04T17:15:38.819113Z"
    },
    "papermill": {
     "duration": 0.031008,
     "end_time": "2023-09-04T17:15:38.822181",
     "exception": false,
     "start_time": "2023-09-04T17:15:38.791173",
     "status": "completed"
    },
    "tags": []
   },
   "outputs": [
    {
     "data": {
      "text/plain": [
       "size            0\n",
       "total_sqft      0\n",
       "bath            0\n",
       "balcony       609\n",
       "price           0\n",
       "dtype: int64"
      ]
     },
     "execution_count": 18,
     "metadata": {},
     "output_type": "execute_result"
    }
   ],
   "source": [
    "df.isnull().sum()"
   ]
  },
  {
   "cell_type": "markdown",
   "id": "13e73822",
   "metadata": {
    "papermill": {
     "duration": 0.016741,
     "end_time": "2023-09-04T17:15:38.855922",
     "exception": false,
     "start_time": "2023-09-04T17:15:38.839181",
     "status": "completed"
    },
    "tags": []
   },
   "source": [
    "### Cleaning 'balcony' column"
   ]
  },
  {
   "cell_type": "code",
   "execution_count": 19,
   "id": "3a6023ff",
   "metadata": {
    "execution": {
     "iopub.execute_input": "2023-09-04T17:15:38.892944Z",
     "iopub.status.busy": "2023-09-04T17:15:38.892551Z",
     "iopub.status.idle": "2023-09-04T17:15:38.899723Z",
     "shell.execute_reply": "2023-09-04T17:15:38.898932Z"
    },
    "papermill": {
     "duration": 0.028614,
     "end_time": "2023-09-04T17:15:38.901791",
     "exception": false,
     "start_time": "2023-09-04T17:15:38.873177",
     "status": "completed"
    },
    "tags": []
   },
   "outputs": [
    {
     "data": {
      "text/plain": [
       "array([ 1.,  3., nan,  2.,  0.])"
      ]
     },
     "execution_count": 19,
     "metadata": {},
     "output_type": "execute_result"
    }
   ],
   "source": [
    "df['balcony'].unique()"
   ]
  },
  {
   "cell_type": "code",
   "execution_count": 20,
   "id": "4fd6e91b",
   "metadata": {
    "execution": {
     "iopub.execute_input": "2023-09-04T17:15:38.938374Z",
     "iopub.status.busy": "2023-09-04T17:15:38.937921Z",
     "iopub.status.idle": "2023-09-04T17:15:38.944405Z",
     "shell.execute_reply": "2023-09-04T17:15:38.943365Z"
    },
    "papermill": {
     "duration": 0.027163,
     "end_time": "2023-09-04T17:15:38.946722",
     "exception": false,
     "start_time": "2023-09-04T17:15:38.919559",
     "status": "completed"
    },
    "tags": []
   },
   "outputs": [],
   "source": [
    "# fill nan values with mean\n",
    "df['balcony'] = df['balcony'].fillna(df['balcony'].mean())"
   ]
  },
  {
   "cell_type": "code",
   "execution_count": 21,
   "id": "99214a4f",
   "metadata": {
    "execution": {
     "iopub.execute_input": "2023-09-04T17:15:38.984514Z",
     "iopub.status.busy": "2023-09-04T17:15:38.983258Z",
     "iopub.status.idle": "2023-09-04T17:15:38.992824Z",
     "shell.execute_reply": "2023-09-04T17:15:38.992061Z"
    },
    "papermill": {
     "duration": 0.030534,
     "end_time": "2023-09-04T17:15:38.994942",
     "exception": false,
     "start_time": "2023-09-04T17:15:38.964408",
     "status": "completed"
    },
    "tags": []
   },
   "outputs": [
    {
     "data": {
      "text/plain": [
       "size          0\n",
       "total_sqft    0\n",
       "bath          0\n",
       "balcony       0\n",
       "price         0\n",
       "dtype: int64"
      ]
     },
     "execution_count": 21,
     "metadata": {},
     "output_type": "execute_result"
    }
   ],
   "source": [
    "df.isnull().sum()"
   ]
  },
  {
   "cell_type": "code",
   "execution_count": 22,
   "id": "43058217",
   "metadata": {
    "execution": {
     "iopub.execute_input": "2023-09-04T17:15:39.031072Z",
     "iopub.status.busy": "2023-09-04T17:15:39.030376Z",
     "iopub.status.idle": "2023-09-04T17:15:39.045374Z",
     "shell.execute_reply": "2023-09-04T17:15:39.044073Z"
    },
    "papermill": {
     "duration": 0.03545,
     "end_time": "2023-09-04T17:15:39.047590",
     "exception": false,
     "start_time": "2023-09-04T17:15:39.012140",
     "status": "completed"
    },
    "tags": []
   },
   "outputs": [
    {
     "name": "stdout",
     "output_type": "stream",
     "text": [
      "<class 'pandas.core.frame.DataFrame'>\n",
      "RangeIndex: 13320 entries, 0 to 13319\n",
      "Data columns (total 5 columns):\n",
      " #   Column      Non-Null Count  Dtype  \n",
      "---  ------      --------------  -----  \n",
      " 0   size        13320 non-null  float64\n",
      " 1   total_sqft  13320 non-null  object \n",
      " 2   bath        13320 non-null  float64\n",
      " 3   balcony     13320 non-null  float64\n",
      " 4   price       13320 non-null  float64\n",
      "dtypes: float64(4), object(1)\n",
      "memory usage: 520.4+ KB\n"
     ]
    }
   ],
   "source": [
    "df.info()"
   ]
  },
  {
   "cell_type": "markdown",
   "id": "79514f69",
   "metadata": {
    "papermill": {
     "duration": 0.016691,
     "end_time": "2023-09-04T17:15:39.082194",
     "exception": false,
     "start_time": "2023-09-04T17:15:39.065503",
     "status": "completed"
    },
    "tags": []
   },
   "source": [
    "### Cleaning 'total_sqft' column"
   ]
  },
  {
   "cell_type": "code",
   "execution_count": 23,
   "id": "44f6f227",
   "metadata": {
    "execution": {
     "iopub.execute_input": "2023-09-04T17:15:39.117904Z",
     "iopub.status.busy": "2023-09-04T17:15:39.117307Z",
     "iopub.status.idle": "2023-09-04T17:15:39.125132Z",
     "shell.execute_reply": "2023-09-04T17:15:39.124079Z"
    },
    "papermill": {
     "duration": 0.028009,
     "end_time": "2023-09-04T17:15:39.127206",
     "exception": false,
     "start_time": "2023-09-04T17:15:39.099197",
     "status": "completed"
    },
    "tags": []
   },
   "outputs": [
    {
     "data": {
      "text/plain": [
       "array(['1056', '2600', '1440', ..., '1133 - 1384', '774', '4689'],\n",
       "      dtype=object)"
      ]
     },
     "execution_count": 23,
     "metadata": {},
     "output_type": "execute_result"
    }
   ],
   "source": [
    "df['total_sqft'].unique()"
   ]
  },
  {
   "cell_type": "code",
   "execution_count": 24,
   "id": "25de54b0",
   "metadata": {
    "execution": {
     "iopub.execute_input": "2023-09-04T17:15:39.166962Z",
     "iopub.status.busy": "2023-09-04T17:15:39.166293Z",
     "iopub.status.idle": "2023-09-04T17:15:39.179678Z",
     "shell.execute_reply": "2023-09-04T17:15:39.178933Z"
    },
    "papermill": {
     "duration": 0.034495,
     "end_time": "2023-09-04T17:15:39.182083",
     "exception": false,
     "start_time": "2023-09-04T17:15:39.147588",
     "status": "completed"
    },
    "tags": []
   },
   "outputs": [],
   "source": [
    "total_sqft_int = []\n",
    "\n",
    "for val in df['total_sqft']:\n",
    "    try:\n",
    "        total_sqft_int.append(float(val))\n",
    "    except:\n",
    "        try:\n",
    "            val = val.split('-')\n",
    "            total_sqft_int.append((float(val[0]) + float(val[1])) / 2)  \n",
    "        except:\n",
    "            total_sqft_int.append(np.nan)  \n"
   ]
  },
  {
   "cell_type": "code",
   "execution_count": 25,
   "id": "eeb7bc1d",
   "metadata": {
    "execution": {
     "iopub.execute_input": "2023-09-04T17:15:39.218688Z",
     "iopub.status.busy": "2023-09-04T17:15:39.218069Z",
     "iopub.status.idle": "2023-09-04T17:15:39.226576Z",
     "shell.execute_reply": "2023-09-04T17:15:39.225697Z"
    },
    "papermill": {
     "duration": 0.029443,
     "end_time": "2023-09-04T17:15:39.228795",
     "exception": false,
     "start_time": "2023-09-04T17:15:39.199352",
     "status": "completed"
    },
    "tags": []
   },
   "outputs": [],
   "source": [
    "# join new integer column\n",
    "df = df.join(pd.DataFrame({'new_total_sqft':total_sqft_int}))"
   ]
  },
  {
   "cell_type": "code",
   "execution_count": 26,
   "id": "be15ecfe",
   "metadata": {
    "execution": {
     "iopub.execute_input": "2023-09-04T17:15:39.266756Z",
     "iopub.status.busy": "2023-09-04T17:15:39.266144Z",
     "iopub.status.idle": "2023-09-04T17:15:39.271993Z",
     "shell.execute_reply": "2023-09-04T17:15:39.271123Z"
    },
    "papermill": {
     "duration": 0.026866,
     "end_time": "2023-09-04T17:15:39.274180",
     "exception": false,
     "start_time": "2023-09-04T17:15:39.247314",
     "status": "completed"
    },
    "tags": []
   },
   "outputs": [],
   "source": [
    "# fill na values in total_sqft_int with mean \n",
    "df['new_total_sqft'] = df['new_total_sqft'].fillna(df['new_total_sqft'].mean())"
   ]
  },
  {
   "cell_type": "code",
   "execution_count": 27,
   "id": "3963a54b",
   "metadata": {
    "execution": {
     "iopub.execute_input": "2023-09-04T17:15:39.311938Z",
     "iopub.status.busy": "2023-09-04T17:15:39.311280Z",
     "iopub.status.idle": "2023-09-04T17:15:39.317234Z",
     "shell.execute_reply": "2023-09-04T17:15:39.316461Z"
    },
    "papermill": {
     "duration": 0.026966,
     "end_time": "2023-09-04T17:15:39.319376",
     "exception": false,
     "start_time": "2023-09-04T17:15:39.292410",
     "status": "completed"
    },
    "tags": []
   },
   "outputs": [],
   "source": [
    "# dropping old total_sqft\n",
    "df = df.drop(['total_sqft'],axis = 1)"
   ]
  },
  {
   "cell_type": "code",
   "execution_count": 28,
   "id": "69486f8d",
   "metadata": {
    "execution": {
     "iopub.execute_input": "2023-09-04T17:15:39.361855Z",
     "iopub.status.busy": "2023-09-04T17:15:39.361399Z",
     "iopub.status.idle": "2023-09-04T17:15:39.380385Z",
     "shell.execute_reply": "2023-09-04T17:15:39.378695Z"
    },
    "papermill": {
     "duration": 0.045848,
     "end_time": "2023-09-04T17:15:39.383841",
     "exception": false,
     "start_time": "2023-09-04T17:15:39.337993",
     "status": "completed"
    },
    "tags": []
   },
   "outputs": [
    {
     "data": {
      "text/html": [
       "<div>\n",
       "<style scoped>\n",
       "    .dataframe tbody tr th:only-of-type {\n",
       "        vertical-align: middle;\n",
       "    }\n",
       "\n",
       "    .dataframe tbody tr th {\n",
       "        vertical-align: top;\n",
       "    }\n",
       "\n",
       "    .dataframe thead th {\n",
       "        text-align: right;\n",
       "    }\n",
       "</style>\n",
       "<table border=\"1\" class=\"dataframe\">\n",
       "  <thead>\n",
       "    <tr style=\"text-align: right;\">\n",
       "      <th></th>\n",
       "      <th>size</th>\n",
       "      <th>bath</th>\n",
       "      <th>balcony</th>\n",
       "      <th>price</th>\n",
       "      <th>new_total_sqft</th>\n",
       "    </tr>\n",
       "  </thead>\n",
       "  <tbody>\n",
       "    <tr>\n",
       "      <th>10768</th>\n",
       "      <td>2.0</td>\n",
       "      <td>2.0</td>\n",
       "      <td>2.0</td>\n",
       "      <td>76.0</td>\n",
       "      <td>1700.0</td>\n",
       "    </tr>\n",
       "    <tr>\n",
       "      <th>13130</th>\n",
       "      <td>3.0</td>\n",
       "      <td>3.0</td>\n",
       "      <td>3.0</td>\n",
       "      <td>60.9</td>\n",
       "      <td>1450.0</td>\n",
       "    </tr>\n",
       "    <tr>\n",
       "      <th>5734</th>\n",
       "      <td>2.0</td>\n",
       "      <td>2.0</td>\n",
       "      <td>1.0</td>\n",
       "      <td>75.0</td>\n",
       "      <td>1235.0</td>\n",
       "    </tr>\n",
       "    <tr>\n",
       "      <th>11405</th>\n",
       "      <td>2.0</td>\n",
       "      <td>2.0</td>\n",
       "      <td>1.0</td>\n",
       "      <td>52.5</td>\n",
       "      <td>970.0</td>\n",
       "    </tr>\n",
       "    <tr>\n",
       "      <th>4799</th>\n",
       "      <td>3.0</td>\n",
       "      <td>4.0</td>\n",
       "      <td>1.0</td>\n",
       "      <td>390.0</td>\n",
       "      <td>9000.0</td>\n",
       "    </tr>\n",
       "  </tbody>\n",
       "</table>\n",
       "</div>"
      ],
      "text/plain": [
       "       size  bath  balcony  price  new_total_sqft\n",
       "10768   2.0   2.0      2.0   76.0          1700.0\n",
       "13130   3.0   3.0      3.0   60.9          1450.0\n",
       "5734    2.0   2.0      1.0   75.0          1235.0\n",
       "11405   2.0   2.0      1.0   52.5           970.0\n",
       "4799    3.0   4.0      1.0  390.0          9000.0"
      ]
     },
     "execution_count": 28,
     "metadata": {},
     "output_type": "execute_result"
    }
   ],
   "source": [
    "df.sample(5)"
   ]
  },
  {
   "cell_type": "code",
   "execution_count": 29,
   "id": "47df8fc0",
   "metadata": {
    "execution": {
     "iopub.execute_input": "2023-09-04T17:15:39.437551Z",
     "iopub.status.busy": "2023-09-04T17:15:39.436802Z",
     "iopub.status.idle": "2023-09-04T17:15:39.447342Z",
     "shell.execute_reply": "2023-09-04T17:15:39.446627Z"
    },
    "papermill": {
     "duration": 0.040879,
     "end_time": "2023-09-04T17:15:39.450284",
     "exception": false,
     "start_time": "2023-09-04T17:15:39.409405",
     "status": "completed"
    },
    "tags": []
   },
   "outputs": [
    {
     "name": "stdout",
     "output_type": "stream",
     "text": [
      "<class 'pandas.core.frame.DataFrame'>\n",
      "RangeIndex: 13320 entries, 0 to 13319\n",
      "Data columns (total 5 columns):\n",
      " #   Column          Non-Null Count  Dtype  \n",
      "---  ------          --------------  -----  \n",
      " 0   size            13320 non-null  float64\n",
      " 1   bath            13320 non-null  float64\n",
      " 2   balcony         13320 non-null  float64\n",
      " 3   price           13320 non-null  float64\n",
      " 4   new_total_sqft  13320 non-null  float64\n",
      "dtypes: float64(5)\n",
      "memory usage: 520.4 KB\n"
     ]
    }
   ],
   "source": [
    "# ALl columns are Numerical\n",
    "df.info()"
   ]
  },
  {
   "cell_type": "code",
   "execution_count": 30,
   "id": "95d491e6",
   "metadata": {
    "execution": {
     "iopub.execute_input": "2023-09-04T17:15:39.494898Z",
     "iopub.status.busy": "2023-09-04T17:15:39.493962Z",
     "iopub.status.idle": "2023-09-04T17:15:39.504113Z",
     "shell.execute_reply": "2023-09-04T17:15:39.503147Z"
    },
    "papermill": {
     "duration": 0.032123,
     "end_time": "2023-09-04T17:15:39.506396",
     "exception": false,
     "start_time": "2023-09-04T17:15:39.474273",
     "status": "completed"
    },
    "tags": []
   },
   "outputs": [
    {
     "data": {
      "text/plain": [
       "size              0\n",
       "bath              0\n",
       "balcony           0\n",
       "price             0\n",
       "new_total_sqft    0\n",
       "dtype: int64"
      ]
     },
     "execution_count": 30,
     "metadata": {},
     "output_type": "execute_result"
    }
   ],
   "source": [
    "# No null values\n",
    "df.isnull().sum()"
   ]
  },
  {
   "cell_type": "markdown",
   "id": "cfaa688b",
   "metadata": {
    "papermill": {
     "duration": 0.017697,
     "end_time": "2023-09-04T17:15:39.543776",
     "exception": false,
     "start_time": "2023-09-04T17:15:39.526079",
     "status": "completed"
    },
    "tags": []
   },
   "source": [
    "# Model Implementation"
   ]
  },
  {
   "cell_type": "code",
   "execution_count": null,
   "id": "15214f6d",
   "metadata": {
    "papermill": {
     "duration": 0.019595,
     "end_time": "2023-09-04T17:15:39.581155",
     "exception": false,
     "start_time": "2023-09-04T17:15:39.561560",
     "status": "completed"
    },
    "tags": []
   },
   "outputs": [],
   "source": []
  }
 ],
 "kernelspec": {
  "display_name": "Python 3",
  "language": "python",
  "name": "python3"
 },
 "language_info": {
  "codemirror_mode": {
   "name": "ipython",
   "version": 3
  },
  "file_extension": ".py",
  "mimetype": "text/x-python",
  "name": "python",
  "nbconvert_exporter": "python",
  "pygments_lexer": "ipython3",
  "version": "3.6.4"
 },
 "metadata": {
  "kernelspec": {
   "display_name": "Python 3",
   "language": "python",
   "name": "python3"
  },
  "language_info": {
   "codemirror_mode": {
    "name": "ipython",
    "version": 3
   },
   "file_extension": ".py",
   "mimetype": "text/x-python",
   "name": "python",
   "nbconvert_exporter": "python",
   "pygments_lexer": "ipython3",
   "version": "3.10.12"
  },
  "papermill": {
   "default_parameters": {},
   "duration": 8.635591,
   "end_time": "2023-09-04T17:15:40.124332",
   "environment_variables": {},
   "exception": null,
   "input_path": "__notebook__.ipynb",
   "output_path": "__notebook__.ipynb",
   "parameters": {},
   "start_time": "2023-09-04T17:15:31.488741",
   "version": "2.4.0"
  }
 },
 "nbformat": 4,
 "nbformat_minor": 5
}
